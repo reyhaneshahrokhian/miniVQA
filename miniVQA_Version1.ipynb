{
  "nbformat": 4,
  "nbformat_minor": 0,
  "metadata": {
    "colab": {
      "provenance": []
    },
    "kernelspec": {
      "name": "python3",
      "display_name": "Python 3"
    },
    "language_info": {
      "name": "python"
    }
  },
  "cells": [
    {
      "cell_type": "markdown",
      "source": [
        "# Imports"
      ],
      "metadata": {
        "id": "FbdwAb6YULXo"
      }
    },
    {
      "cell_type": "code",
      "execution_count": null,
      "metadata": {
        "id": "8guPwJuyCh42"
      },
      "outputs": [],
      "source": [
        "import pandas as pd\n",
        "import numpy as np\n",
        "import torch\n",
        "import json\n",
        "import pickle\n",
        "import gensim\n",
        "import gensim.downloader as api\n",
        "import torchtext\n",
        "from torch import nn, stack, tensor\n",
        "from google.colab import drive"
      ]
    },
    {
      "cell_type": "markdown",
      "source": [
        "# Data"
      ],
      "metadata": {
        "id": "jNUsluvRUQ6Q"
      }
    },
    {
      "cell_type": "code",
      "source": [
        "drive.mount('/content/drive')"
      ],
      "metadata": {
        "colab": {
          "base_uri": "https://localhost:8080/"
        },
        "id": "NPQEaxwmGy_N",
        "outputId": "40cc8081-d967-4ca7-9725-11e5f3e1ebe7"
      },
      "execution_count": null,
      "outputs": [
        {
          "output_type": "stream",
          "name": "stdout",
          "text": [
            "Mounted at /content/drive\n"
          ]
        }
      ]
    },
    {
      "cell_type": "code",
      "source": [
        "with open(\"/content/drive/My Drive/minivqaiust/image_features.pickle\", 'rb') as f:\n",
        "    image_faeture = pickle.load(f)\n",
        "\n",
        "with open(\"/content/drive/My Drive/minivqaiust/image_question.json\") as f:\n",
        "      image_question_map = json.load(f)"
      ],
      "metadata": {
        "id": "u5e51vjEFIqq"
      },
      "execution_count": null,
      "outputs": []
    },
    {
      "cell_type": "code",
      "source": [
        "questions={}\n",
        "\n",
        "for image_id, question in image_question_map.items():\n",
        "  for q in question:\n",
        "    questions[q[0]] = {'question_text':q[1], 'image_id': str(image_id)}"
      ],
      "metadata": {
        "id": "u9cks--RF-RZ"
      },
      "execution_count": null,
      "outputs": []
    },
    {
      "cell_type": "code",
      "source": [
        "#pre proccessing train data\n",
        "df = pd.read_csv(\"/content/drive/My Drive/minivqaiust/train.csv\")\n",
        "\n",
        "train_label=torch.tensor([df['label']])\n",
        "train_question=[questions[i]['question_text'] for i in list(df['question_id'])]\n",
        "train_image_feature = torch.tensor([image_feature[questions[i]['image_id']] for i in list(df['question_id'])])"
      ],
      "metadata": {
        "id": "Lb9GSMrnUWyq"
      },
      "execution_count": null,
      "outputs": []
    },
    {
      "cell_type": "code",
      "source": [
        "#pre proccessing validation data\n",
        "df = pd.read_csv(\"/content/drive/My Drive/minivqaiust/val.csv\")\n",
        "\n",
        "valid_label=torch.tensor([df['label']])\n",
        "valid_question=[questions[i]['question_text'] for i in list(df['question_id'])]\n",
        "valid_image_feature = torch.tensor([image_feature[questions[i]['image_id']] for i in list(df['question_id'])])"
      ],
      "metadata": {
        "id": "tSHUf1qfJJfZ"
      },
      "execution_count": null,
      "outputs": []
    },
    {
      "cell_type": "code",
      "source": [
        "#pre proccessing test data\n",
        "df = pd.read_csv(\"/content/drive/My Drive/minivqaiust/test.csv\")\n",
        "\n",
        "test_question=[questions[i]['question_text'] for i in list(df['question_id'])]\n",
        "test_image_feature = torch.tensor([image_feature[questions[i]['image_id']] for i in list(df['question_id'])])"
      ],
      "metadata": {
        "id": "3BaYh6IpJKCd"
      },
      "execution_count": null,
      "outputs": []
    },
    {
      "cell_type": "markdown",
      "source": [
        "# Word Embedding"
      ],
      "metadata": {
        "id": "ftLNcNguLmuU"
      }
    },
    {
      "cell_type": "code",
      "source": [
        "# Tokenize\n",
        "tokenizer = torchtext.data.utils.get_tokenizer('basic_english')\n",
        "\n",
        "# pre embedding model\n",
        "pre_model = api.load('word2vec-google-news-300')"
      ],
      "metadata": {
        "id": "Y6euHxsSLpB1"
      },
      "execution_count": null,
      "outputs": []
    },
    {
      "cell_type": "code",
      "source": [
        "# Embedding layer\n",
        "word_embedding = nn.Embedding(len(list(pre_model.vocab.keys())) + 1, len(pre_model.get_vector('hi')))"
      ],
      "metadata": {
        "id": "ZizvAQmtNND1"
      },
      "execution_count": null,
      "outputs": []
    },
    {
      "cell_type": "code",
      "source": [
        "def encode(input):\n",
        "  return [pre_model.get_index(token, default=-1) + 1 for token in tokenizer(input)]\n",
        "\n",
        "def padify(input):\n",
        "  encoded_input = [encode(x) for x in input]\n",
        "  return stack([nn.functional.pad(tensor(e),(0,l-len(e)),mode='constant',value=0) for e in encoded_input])"
      ],
      "metadata": {
        "id": "u3Bq0d3ZO5D3"
      },
      "execution_count": null,
      "outputs": []
    },
    {
      "cell_type": "code",
      "source": [
        "# word embedding on train data\n",
        "with torch.no_grad():\n",
        "  train_question_emedding = word_embedding(padify(train_question))"
      ],
      "metadata": {
        "id": "5GzFKGWRO7sN"
      },
      "execution_count": null,
      "outputs": []
    },
    {
      "cell_type": "code",
      "source": [
        "# word embedding on validation data\n",
        "with torch.no_grad():\n",
        "  valid_question_emedding = word_embedding(padify(valid_question))"
      ],
      "metadata": {
        "id": "fUs0G6nfRREx"
      },
      "execution_count": null,
      "outputs": []
    },
    {
      "cell_type": "code",
      "source": [
        "# word embedding on test data\n",
        "with torch.no_grad():\n",
        "  test_question_emedding = word_embedding(padify(test_question))"
      ],
      "metadata": {
        "id": "dbTa7eH5RR4L"
      },
      "execution_count": null,
      "outputs": []
    },
    {
      "cell_type": "markdown",
      "source": [
        "# Data loader\n"
      ],
      "metadata": {
        "id": "hK7YWW5oRrp_"
      }
    },
    {
      "cell_type": "code",
      "source": [
        "train_dataset = torch.utils.data.TensorDataset(train_question_embedding, train_image_feature, train_label)\n",
        "train_dataloader = torch.utils.data.DataLoader(train_dataset, batch_size=64, shuffle=True)"
      ],
      "metadata": {
        "id": "ntjQN-rjRvh_"
      },
      "execution_count": null,
      "outputs": []
    },
    {
      "cell_type": "code",
      "source": [
        "valid_dataset = torch.utils.data.TensorDataset(valid_question_embedding, valid_image_feature, valid_label)\n",
        "valid_dataloader = torch.utils.data.DataLoader(valid_dataset, batch_size=64, shuffle=True)"
      ],
      "metadata": {
        "id": "O0ld9shNRvcq"
      },
      "execution_count": null,
      "outputs": []
    },
    {
      "cell_type": "markdown",
      "source": [
        "# Model"
      ],
      "metadata": {
        "id": "LorGRwwUS62t"
      }
    },
    {
      "cell_type": "code",
      "source": [
        "class VQA(nn.Module):\n",
        "    def __init__(self):\n",
        "        super(type(self), self).__init__()\n",
        "        self.lstm = nn.LSTM(256, 512, num_layers=1, dropout=0.1)\n",
        "        self.linear = nn.Sequential(\n",
        "            nn.BatchNorm1d(512),\n",
        "            nn.Linear(512, 128),\n",
        "            nn.ReLU(),\n",
        "            nn.BatchNorm1d(128),\n",
        "            nn.Linear(128, 10),\n",
        "            nn.BatchNorm1d(10),\n",
        "            nn.ReLU()\n",
        "        )\n",
        "\n",
        "    def forward(self, text, image):\n",
        "        text_features= torch.flatten(self.lstm(text)[0], start_dim=1)\n",
        "        input = torch.cat([text_feature, image], dim=1)\n",
        "        logits = nn.functional.softmax(self.linear(input), dim=1)\n",
        "        return logits"
      ],
      "metadata": {
        "id": "PsLh9eXGS22Z"
      },
      "execution_count": null,
      "outputs": []
    },
    {
      "cell_type": "code",
      "source": [
        "model = VQA()"
      ],
      "metadata": {
        "id": "PioQ-viZGI1C"
      },
      "execution_count": null,
      "outputs": []
    },
    {
      "cell_type": "markdown",
      "source": [
        "# Train and Validation"
      ],
      "metadata": {
        "id": "PspgoaPwG0XD"
      }
    },
    {
      "cell_type": "code",
      "source": [
        "loss_function = nn.CrossEntropyLoss()\n",
        "optimizer = torch.optim.Adam(model.parameters(), lr=0.001, weight_decay=0.0004)"
      ],
      "metadata": {
        "id": "kIlaF0DJG1yp"
      },
      "execution_count": null,
      "outputs": []
    },
    {
      "cell_type": "code",
      "source": [
        "def validatoin_loop(model, dataloader):\n",
        "  size = len(dataloader.dataset)\n",
        "  correct = 0\n",
        "  avg_loss = 0\n",
        "  for batch, (text, image, y) in enumerate(dataloader):\n",
        "    prediction = model(text, image)\n",
        "    loss = loss_function(prediction, y)\n",
        "\n",
        "    output = [torch.argmax(p).item() for p in prediction]\n",
        "    correct += (torch.FloatTensor(output) == y).float().sum()\n",
        "    avg_loss += loss.item()\n",
        "\n",
        "  accuracy = correct / len(dataloader.dataset)\n",
        "  return avg_loss, accuracy\n"
      ],
      "metadata": {
        "id": "szrILLfGM0eV"
      },
      "execution_count": null,
      "outputs": []
    },
    {
      "cell_type": "code",
      "source": [
        "def train_loop(dataloader, model, loss_function, optimizer):\n",
        "    size = len(dataloader.dataset)\n",
        "    correct = 0\n",
        "    avg_loss = 0\n",
        "    for batch, (text, image, label) in enumerate(dataloader):\n",
        "        prediction = model(text, image)\n",
        "        loss = loss_function(prediction, label)\n",
        "        avg_loss += loss.item()\n",
        "\n",
        "        optimizer.zero_grad()\n",
        "        loss.backward()\n",
        "        optimizer.step()\n",
        "\n",
        "        output = [torch.argmax(p).item() for p in prediction]\n",
        "        correct += (torch.FloatTensor(output) == y).float().sum()\n",
        "\n",
        "    avg_loss /= (len(dataloader.dataset) // 64 + 1)\n",
        "    accuracy = correct / len(dataloader.dataset)\n",
        "\n",
        "    val_loss, val_acc = validation_loop(model, valid_dataloader)\n",
        "    print(f\"training / loss: {avg_loss:>7f} | accuracy: {accuracy}\")\n",
        "    print(f\"val / loss: {val_loss:>7f} | accuracy: {val_acc}\")"
      ],
      "metadata": {
        "id": "vy1H-eYUHz7W"
      },
      "execution_count": null,
      "outputs": []
    },
    {
      "cell_type": "code",
      "source": [
        "for epochs in range(15):\n",
        "    print(f\"Epoch {epochs+1}\\n-------------------------------\")\n",
        "    train_loop(train_dataloader, model, loss_function, optimizer)"
      ],
      "metadata": {
        "id": "Wa6pvVtLN9td"
      },
      "execution_count": null,
      "outputs": []
    },
    {
      "cell_type": "markdown",
      "source": [
        "# Prediction"
      ],
      "metadata": {
        "id": "aDIj2e6iPXrW"
      }
    },
    {
      "cell_type": "code",
      "source": [
        "prediction = model(test_question_emedding, torch.tensor(test_image_feature))\n",
        "\n",
        "output = np.array([torch.argmax(p).item() for p in prediction], dtype='int64')\n",
        "labeldict = {}\n",
        "labeldict['question_id'] = list(df['question_id'])\n",
        "labeldict['label'] = []\n",
        "for idx, out in enumerate(prediction):\n",
        "  labeldict['label'].append(int(out))\n",
        "\n",
        "print(df.head())"
      ],
      "metadata": {
        "id": "-KVrBVQnPZo2"
      },
      "execution_count": null,
      "outputs": []
    },
    {
      "cell_type": "code",
      "source": [
        "torch.save(model.state_dict(), base_path + '/content/drive/My Drive/minivqaiust/minivqa-v1-weights.pth')"
      ],
      "metadata": {
        "id": "nxgMAmvBQ9n_"
      },
      "execution_count": null,
      "outputs": []
    }
  ]
}